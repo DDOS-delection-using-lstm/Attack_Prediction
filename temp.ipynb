{
 "cells": [
  {
   "cell_type": "code",
   "execution_count": 90,
   "metadata": {},
   "outputs": [],
   "source": [
    "import pandas as pd \n",
    "import numpy as np"
   ]
  },
  {
   "cell_type": "code",
   "execution_count": 91,
   "metadata": {},
   "outputs": [],
   "source": [
    "from sklearn.preprocessing import LabelEncoder"
   ]
  },
  {
   "cell_type": "code",
   "execution_count": 92,
   "metadata": {},
   "outputs": [],
   "source": [
    "data_df = pd.read_csv('data/data.csv')"
   ]
  },
  {
   "cell_type": "code",
   "execution_count": 93,
   "metadata": {},
   "outputs": [],
   "source": [
    "cols_to_drop = [\n",
    "    'Flow ID', ' Active Mean', ' Active Max', ' Bwd IAT Std', ' Bwd IAT Max',\n",
    "    ' Max Packet Length', ' Packet Length Std', ' Packet Length Variance', ' Average Packet Size',\n",
    "    ' Flow IAT Mean', ' Flow IAT Std', ' Fwd IAT Mean', ' Fwd IAT Std', ' Fwd IAT Max', ' Idle Mean',\n",
    "    ' Fwd IAT Min', ' Bwd Packet Length Max', ' Bwd Packet Length Mean', ' Bwd Packet Length Std',\n",
    "    ' Fwd Packet Length Max', ' Fwd Packet Length Std', ' Subflow Fwd Bytes', ' Fwd Packet Length Mean',\n",
    "    ' Fwd PSH Flags', ' RST Flag Count', ' Total Backward Packets', ' Total Length of Bwd Packets',\n",
    "    ' Subflow Fwd Packets', ' Subflow Bwd Packets', ' Subflow Bwd Bytes', ' Flow Duration',\n",
    "    ' Flow IAT Max', ' Idle Max', ' Packet Length Mean', ' FIN Flag Count',\n",
    "    ' SYN Flag Count', ' PSH Flag Count', ' ACK Flag Count' ,' CWE Flag Count',\n",
    "    ' ECE Flag Count', ' Down/Up Ratio', ' Avg Fwd Segment Size', ' Avg Bwd Segment Size',\n",
    "    ' Fwd Header Length', ' Fwd Avg Bytes/Bulk', ' Fwd Avg Packets/Bulk', ' Fwd Avg Bulk Rate',\n",
    "    ' Bwd Avg Bytes/Bulk', ' Bwd Avg Packets/Bulk', ' Bwd Avg Bulk Rate', ' Init_Win_bytes_forward',\n",
    "    ' Init_Win_bytes_backward', ' act_data_pkt_fwd', ' min_seg_size_forward', ' Active Std'\n",
    "]"
   ]
  },
  {
   "cell_type": "code",
   "execution_count": 94,
   "metadata": {},
   "outputs": [],
   "source": [
    "new = data_df.drop(cols_to_drop, axis=1, inplace=True)"
   ]
  },
  {
   "cell_type": "code",
   "execution_count": 105,
   "metadata": {},
   "outputs": [],
   "source": [
    "data_df = data_df.dropna()"
   ]
  },
  {
   "cell_type": "code",
   "execution_count": 106,
   "metadata": {},
   "outputs": [
    {
     "data": {
      "text/html": [
       "<div>\n",
       "<style scoped>\n",
       "    .dataframe tbody tr th:only-of-type {\n",
       "        vertical-align: middle;\n",
       "    }\n",
       "\n",
       "    .dataframe tbody tr th {\n",
       "        vertical-align: top;\n",
       "    }\n",
       "\n",
       "    .dataframe thead th {\n",
       "        text-align: right;\n",
       "    }\n",
       "</style>\n",
       "<table border=\"1\" class=\"dataframe\">\n",
       "  <thead>\n",
       "    <tr style=\"text-align: right;\">\n",
       "      <th></th>\n",
       "      <th>Source IP</th>\n",
       "      <th>Source Port</th>\n",
       "      <th>Destination IP</th>\n",
       "      <th>Destination Port</th>\n",
       "      <th>Protocol</th>\n",
       "      <th>Timestamp</th>\n",
       "      <th>Total Fwd Packets</th>\n",
       "      <th>Total Length of Fwd Packets</th>\n",
       "      <th>Fwd Packet Length Min</th>\n",
       "      <th>Bwd Packet Length Min</th>\n",
       "      <th>...</th>\n",
       "      <th>Bwd Header Length</th>\n",
       "      <th>Fwd Packets/s</th>\n",
       "      <th>Bwd Packets/s</th>\n",
       "      <th>Min Packet Length</th>\n",
       "      <th>URG Flag Count</th>\n",
       "      <th>Fwd Header Length.1</th>\n",
       "      <th>Active Min</th>\n",
       "      <th>Idle Std</th>\n",
       "      <th>Idle Min</th>\n",
       "      <th>Label</th>\n",
       "    </tr>\n",
       "  </thead>\n",
       "  <tbody>\n",
       "    <tr>\n",
       "      <th>0</th>\n",
       "      <td>104.16.207.165</td>\n",
       "      <td>443</td>\n",
       "      <td>192.168.10.5</td>\n",
       "      <td>54865</td>\n",
       "      <td>6</td>\n",
       "      <td>7/7/2017 3:30</td>\n",
       "      <td>2</td>\n",
       "      <td>12</td>\n",
       "      <td>6</td>\n",
       "      <td>0</td>\n",
       "      <td>...</td>\n",
       "      <td>0</td>\n",
       "      <td>666666.666700</td>\n",
       "      <td>0.000000</td>\n",
       "      <td>6</td>\n",
       "      <td>0</td>\n",
       "      <td>40</td>\n",
       "      <td>0</td>\n",
       "      <td>0.0</td>\n",
       "      <td>0</td>\n",
       "      <td>0</td>\n",
       "    </tr>\n",
       "    <tr>\n",
       "      <th>1</th>\n",
       "      <td>104.16.28.216</td>\n",
       "      <td>80</td>\n",
       "      <td>192.168.10.5</td>\n",
       "      <td>55054</td>\n",
       "      <td>6</td>\n",
       "      <td>7/7/2017 3:30</td>\n",
       "      <td>1</td>\n",
       "      <td>6</td>\n",
       "      <td>6</td>\n",
       "      <td>6</td>\n",
       "      <td>...</td>\n",
       "      <td>20</td>\n",
       "      <td>9174.311927</td>\n",
       "      <td>9174.311927</td>\n",
       "      <td>6</td>\n",
       "      <td>1</td>\n",
       "      <td>20</td>\n",
       "      <td>0</td>\n",
       "      <td>0.0</td>\n",
       "      <td>0</td>\n",
       "      <td>0</td>\n",
       "    </tr>\n",
       "    <tr>\n",
       "      <th>2</th>\n",
       "      <td>104.16.28.216</td>\n",
       "      <td>80</td>\n",
       "      <td>192.168.10.5</td>\n",
       "      <td>55055</td>\n",
       "      <td>6</td>\n",
       "      <td>7/7/2017 3:30</td>\n",
       "      <td>1</td>\n",
       "      <td>6</td>\n",
       "      <td>6</td>\n",
       "      <td>6</td>\n",
       "      <td>...</td>\n",
       "      <td>20</td>\n",
       "      <td>19230.769230</td>\n",
       "      <td>19230.769230</td>\n",
       "      <td>6</td>\n",
       "      <td>1</td>\n",
       "      <td>20</td>\n",
       "      <td>0</td>\n",
       "      <td>0.0</td>\n",
       "      <td>0</td>\n",
       "      <td>0</td>\n",
       "    </tr>\n",
       "    <tr>\n",
       "      <th>3</th>\n",
       "      <td>104.17.241.25</td>\n",
       "      <td>443</td>\n",
       "      <td>192.168.10.16</td>\n",
       "      <td>46236</td>\n",
       "      <td>6</td>\n",
       "      <td>7/7/2017 3:30</td>\n",
       "      <td>1</td>\n",
       "      <td>6</td>\n",
       "      <td>6</td>\n",
       "      <td>6</td>\n",
       "      <td>...</td>\n",
       "      <td>20</td>\n",
       "      <td>29411.764710</td>\n",
       "      <td>29411.764710</td>\n",
       "      <td>6</td>\n",
       "      <td>1</td>\n",
       "      <td>20</td>\n",
       "      <td>0</td>\n",
       "      <td>0.0</td>\n",
       "      <td>0</td>\n",
       "      <td>0</td>\n",
       "    </tr>\n",
       "    <tr>\n",
       "      <th>4</th>\n",
       "      <td>104.19.196.102</td>\n",
       "      <td>443</td>\n",
       "      <td>192.168.10.5</td>\n",
       "      <td>54863</td>\n",
       "      <td>6</td>\n",
       "      <td>7/7/2017 3:30</td>\n",
       "      <td>2</td>\n",
       "      <td>12</td>\n",
       "      <td>6</td>\n",
       "      <td>0</td>\n",
       "      <td>...</td>\n",
       "      <td>0</td>\n",
       "      <td>666666.666700</td>\n",
       "      <td>0.000000</td>\n",
       "      <td>6</td>\n",
       "      <td>0</td>\n",
       "      <td>40</td>\n",
       "      <td>0</td>\n",
       "      <td>0.0</td>\n",
       "      <td>0</td>\n",
       "      <td>0</td>\n",
       "    </tr>\n",
       "  </tbody>\n",
       "</table>\n",
       "<p>5 rows × 30 columns</p>\n",
       "</div>"
      ],
      "text/plain": [
       "        Source IP   Source Port  Destination IP   Destination Port   Protocol  \\\n",
       "0  104.16.207.165           443    192.168.10.5              54865          6   \n",
       "1   104.16.28.216            80    192.168.10.5              55054          6   \n",
       "2   104.16.28.216            80    192.168.10.5              55055          6   \n",
       "3   104.17.241.25           443   192.168.10.16              46236          6   \n",
       "4  104.19.196.102           443    192.168.10.5              54863          6   \n",
       "\n",
       "       Timestamp   Total Fwd Packets  Total Length of Fwd Packets  \\\n",
       "0  7/7/2017 3:30                   2                           12   \n",
       "1  7/7/2017 3:30                   1                            6   \n",
       "2  7/7/2017 3:30                   1                            6   \n",
       "3  7/7/2017 3:30                   1                            6   \n",
       "4  7/7/2017 3:30                   2                           12   \n",
       "\n",
       "    Fwd Packet Length Min   Bwd Packet Length Min  ...   Bwd Header Length  \\\n",
       "0                       6                       0  ...                   0   \n",
       "1                       6                       6  ...                  20   \n",
       "2                       6                       6  ...                  20   \n",
       "3                       6                       6  ...                  20   \n",
       "4                       6                       0  ...                   0   \n",
       "\n",
       "    Fwd Packets/s   Bwd Packets/s   Min Packet Length   URG Flag Count  \\\n",
       "0   666666.666700        0.000000                   6                0   \n",
       "1     9174.311927     9174.311927                   6                1   \n",
       "2    19230.769230    19230.769230                   6                1   \n",
       "3    29411.764710    29411.764710                   6                1   \n",
       "4   666666.666700        0.000000                   6                0   \n",
       "\n",
       "    Fwd Header Length.1   Active Min   Idle Std   Idle Min   Label  \n",
       "0                    40            0        0.0          0       0  \n",
       "1                    20            0        0.0          0       0  \n",
       "2                    20            0        0.0          0       0  \n",
       "3                    20            0        0.0          0       0  \n",
       "4                    40            0        0.0          0       0  \n",
       "\n",
       "[5 rows x 30 columns]"
      ]
     },
     "execution_count": 106,
     "metadata": {},
     "output_type": "execute_result"
    }
   ],
   "source": [
    "data_df.head()"
   ]
  },
  {
   "cell_type": "code",
   "execution_count": 107,
   "metadata": {},
   "outputs": [
    {
     "data": {
      "text/plain": [
       " Source IP                     119997\n",
       " Source Port                   119997\n",
       " Destination IP                119997\n",
       " Destination Port              119997\n",
       " Protocol                      119997\n",
       " Timestamp                     119997\n",
       " Total Fwd Packets             119997\n",
       "Total Length of Fwd Packets    119997\n",
       " Fwd Packet Length Min         119997\n",
       " Bwd Packet Length Min         119997\n",
       " Flow Bytes/s                  119997\n",
       " Flow Packets/s                119997\n",
       " Flow IAT Min                  119997\n",
       "Fwd IAT Total                  119997\n",
       " Bwd IAT Total                 119997\n",
       " Bwd IAT Mean                  119997\n",
       " Bwd IAT Min                   119997\n",
       " Bwd PSH Flags                 119997\n",
       " Fwd URG Flags                 119997\n",
       " Bwd URG Flags                 119997\n",
       " Bwd Header Length             119997\n",
       " Fwd Packets/s                 119997\n",
       " Bwd Packets/s                 119997\n",
       " Min Packet Length             119997\n",
       " URG Flag Count                119997\n",
       " Fwd Header Length.1           119997\n",
       " Active Min                    119997\n",
       " Idle Std                      119997\n",
       " Idle Min                      119997\n",
       " Label                         119997\n",
       "dtype: int64"
      ]
     },
     "execution_count": 107,
     "metadata": {},
     "output_type": "execute_result"
    }
   ],
   "source": [
    "data_df.count()"
   ]
  },
  {
   "cell_type": "code",
   "execution_count": 108,
   "metadata": {},
   "outputs": [],
   "source": [
    "data_df.to_csv(\"data/danta.csv\",index=False)"
   ]
  },
  {
   "cell_type": "code",
   "execution_count": 37,
   "metadata": {},
   "outputs": [],
   "source": [
    "timestamp_col = None\n",
    "for col in data_df.columns:\n",
    "    if 'time' in col.lower() or ' timestamp' in col.lower():\n",
    "        timestamp_col = col\n",
    "        data_df[timestamp_col] = pd.to_datetime(data_df[timestamp_col], errors='coerce')\n"
   ]
  },
  {
   "cell_type": "code",
   "execution_count": 39,
   "metadata": {},
   "outputs": [],
   "source": [
    "ip_cols = [col for col in data_df.columns if 'ip' in col.lower()]\n",
    "if ip_cols:\n",
    "    ip_encoder = LabelEncoder()\n",
    "    all_ips = pd.concat([data_df[col] for col in ip_cols], axis=0)\n",
    "    ip_encoder.fit(all_ips)\n",
    "    for col in ip_cols:\n",
    "        data_df[col] = data_df[col].map(lambda x: ip_encoder.transform([x])[0] if x in ip_encoder.classes_ else -1)"
   ]
  },
  {
   "cell_type": "code",
   "execution_count": null,
   "metadata": {},
   "outputs": [],
   "source": []
  },
  {
   "cell_type": "code",
   "execution_count": 40,
   "metadata": {},
   "outputs": [],
   "source": [
    "cols_to_drop = [\n",
    "        'Flow ID', 'Active Mean', 'Active Max', 'Bwd IAT Std', 'Bwd IAT Max',\n",
    "        'Max Packet Length', 'Packet Length Std', 'Packet Length Variance',\n",
    "        'Average Packet Size', 'Flow IAT Mean', 'Flow IAT Std', 'Fwd IAT Mean',\n",
    "        'Fwd IAT Std', 'Fwd IAT Max', 'Idle Mean', 'Fwd IAT Min',\n",
    "        'Bwd Packet Length Max', 'Bwd Packet Length Mean', 'Bwd Packet Length Std',\n",
    "        'Fwd Packet Length Max', 'Fwd Packet Length Std', 'Subflow Fwd Bytes',\n",
    "        'Fwd Packet Length Mean', 'Fwd PSH Flags', 'RST Flag Count',\n",
    "        'Total Backward Packets', 'Total Length of Bwd Packets', 'Subflow Fwd Packets',\n",
    "        'Subflow Bwd Packets', 'Subflow Bwd Bytes', 'Flow Duration', 'Flow IAT Max',\n",
    "        'Fwd IAT Total'\n",
    "    ]\n",
    "data_df.drop(columns=cols_to_drop, errors='ignore', inplace=True)"
   ]
  },
  {
   "cell_type": "code",
   "execution_count": null,
   "metadata": {},
   "outputs": [],
   "source": [
    "[\n",
    "        'Flow ID', 'Active Mean', 'Active Max', 'Bwd IAT Std', 'Bwd IAT Max',\n",
    "        'Max Packet Length', 'Packet Length Std', 'Packet Length Variance',\n",
    "        'Average Packet Size', 'Flow IAT Mean', 'Flow IAT Std', 'Fwd IAT Mean',\n",
    "        'Fwd IAT Std', 'Fwd IAT Max', 'Idle Mean', 'Fwd IAT Min',\n",
    "        'Bwd Packet Length Max', 'Bwd Packet Length Mean', 'Bwd Packet Length Std',\n",
    "        'Fwd Packet Length Max', 'Fwd Packet Length Std', 'Subflow Fwd Bytes',\n",
    "        'Fwd Packet Length Mean', 'Fwd PSH Flags', 'RST Flag Count',\n",
    "        'Total Backward Packets', 'Total Length of Bwd Packets', 'Subflow Fwd Packets',\n",
    "        'Subflow Bwd Packets', 'Subflow Bwd Bytes', 'Flow Duration', 'Flow IAT Max',\n",
    "        'Fwd IAT Total',' Bwd PSH Flags', ' Fwd URG Flags', ' Bwd URG Flags', ' CWE Flag Count', 'Fwd Avg Bytes/Bulk', \n",
    "        ' Fwd Avg Packets/Bulk', ' Fwd Avg Bulk Rate', ' Bwd Avg Bytes/Bulk', ' Bwd Avg Packets/Bulk', 'Bwd Avg Bulk Rate'\n",
    "    ]"
   ]
  },
  {
   "cell_type": "code",
   "execution_count": 41,
   "metadata": {},
   "outputs": [],
   "source": [
    "\n",
    "numeric_cols = data_df.select_dtypes(include=np.number).columns.tolist()"
   ]
  },
  {
   "cell_type": "code",
   "execution_count": 42,
   "metadata": {},
   "outputs": [],
   "source": [
    "data_df.replace([np.inf, -np.inf], np.nan, inplace=True)"
   ]
  },
  {
   "cell_type": "code",
   "execution_count": null,
   "metadata": {},
   "outputs": [],
   "source": []
  }
 ],
 "metadata": {
  "kernelspec": {
   "display_name": "Python 3",
   "language": "python",
   "name": "python3"
  },
  "language_info": {
   "codemirror_mode": {
    "name": "ipython",
    "version": 3
   },
   "file_extension": ".py",
   "mimetype": "text/x-python",
   "name": "python",
   "nbconvert_exporter": "python",
   "pygments_lexer": "ipython3",
   "version": "3.10.11"
  }
 },
 "nbformat": 4,
 "nbformat_minor": 2
}
